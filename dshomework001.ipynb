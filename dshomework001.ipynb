{
 "cells": [
  {
   "cell_type": "code",
   "execution_count": 1,
   "metadata": {},
   "outputs": [
    {
     "name": "stdout",
     "output_type": "stream",
     "text": [
      "[1, 2, 3, 4, 5, 6, 7, 8, 9]\n"
     ]
    }
   ],
   "source": [
    "line=[7,2,1,9,3,5,4,8,6]\n",
    "n=len(line)\n",
    "for i in range(1,n):\n",
    "    low=0\n",
    "    high=i-1\n",
    "    if line[i]<line[low]:\n",
    "        p=0\n",
    "    elif line[i]>line[high]:\n",
    "        p=i\n",
    "    else:\n",
    "        while True:\n",
    "            mid=int((low+high)/2)\n",
    "            if low == mid:\n",
    "                p=mid+1\n",
    "                break\n",
    "            if line[i]<line[mid]:\n",
    "                high=mid\n",
    "            if line[i]>line[mid]:\n",
    "                low=mid\n",
    "    temp=line[i]\n",
    "    for j in range(i,p,-1):\n",
    "        line[j]=line[j-1]\n",
    "        line[j-1]=temp\n",
    "print(line)"
   ]
  },
  {
   "cell_type": "code",
   "execution_count": null,
   "metadata": {},
   "outputs": [],
   "source": []
  }
 ],
 "metadata": {
  "kernelspec": {
   "display_name": "Python 3",
   "language": "python",
   "name": "python3"
  },
  "language_info": {
   "codemirror_mode": {
    "name": "ipython",
    "version": 3
   },
   "file_extension": ".py",
   "mimetype": "text/x-python",
   "name": "python",
   "nbconvert_exporter": "python",
   "pygments_lexer": "ipython3",
   "version": "3.7.3"
  }
 },
 "nbformat": 4,
 "nbformat_minor": 2
}

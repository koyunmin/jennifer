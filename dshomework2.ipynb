{
 "cells": [
  {
   "cell_type": "code",
   "execution_count": 12,
   "metadata": {},
   "outputs": [
    {
     "name": "stdout",
     "output_type": "stream",
     "text": [
      "[(1, 2, 10), (3, 6, 15), (4, 6, 20), (2, 6, 25), (3, 5, 35)]\n"
     ]
    }
   ],
   "source": [
    "nodes=6\n",
    "edges=[(1,2,10),(1,4,30),(1,5,45),(2,3,50),(2,5,40),(2,6,25),(3,5,35),(3,6,15),(4,6,20),(5,6,55)]\n",
    "edges=sorted(edges,key=lambda d:d[2])\n",
    "\n",
    "parent=[-1]*(nodes+1)\n",
    "def root(x):\n",
    "    while True:\n",
    "        if parent[x]>=0:\n",
    "            x=parent[x]\n",
    "        else:\n",
    "            return x\n",
    "ans=[]\n",
    "i=0\n",
    "while len(ans)< (nodes-1):\n",
    "    node1,node2 =edges[i][:2]\n",
    "    if root(node1)!=root(node2):\n",
    "        if node1==root(node1) or node2==root(node2):\n",
    "            parent[node1]=node2\n",
    "            ans.append(edges[i])\n",
    "        else:\n",
    "            parent[root(node1)]=root(node2)\n",
    "            ans.append(edges[i])\n",
    "    i=i+1\n",
    "            \n",
    "print(ans)\n"
   ]
  },
  {
   "cell_type": "code",
   "execution_count": 13,
   "metadata": {},
   "outputs": [
    {
     "name": "stdout",
     "output_type": "stream",
     "text": [
      "[(0, 5, 10), (2, 3, 12), (1, 6, 14), (1, 2, 16), (3, 4, 22), (4, 5, 25)]\n"
     ]
    }
   ],
   "source": [
    "nodes=7\n",
    "edges=[(0,1,28),(0,5,10),(1,2,16),(1,6,14),(2,3,12),(3,4,22),(3,6,18),(4,5,25),(4,6,24)]\n",
    "edges=sorted(edges,key=lambda d:d[2])\n",
    "\n",
    "parent=[-1]*(nodes+1)\n",
    "def root(x):\n",
    "    while True:\n",
    "        if parent[x]>=0:\n",
    "            x=parent[x]\n",
    "        else:\n",
    "            return x\n",
    "ans=[]\n",
    "i=0\n",
    "while len(ans)< (nodes-1):\n",
    "    node1,node2 =edges[i][:2]\n",
    "    if root(node1)!=root(node2):\n",
    "        if node1==root(node1) or node2==root(node2):\n",
    "            parent[node1]=node2\n",
    "            ans.append(edges[i])\n",
    "        else:\n",
    "            parent[root(node1)]=root(node2)\n",
    "            ans.append(edges[i])\n",
    "    i=i+1\n",
    "            \n",
    "print(ans)\n"
   ]
  },
  {
   "cell_type": "code",
   "execution_count": null,
   "metadata": {},
   "outputs": [],
   "source": []
  }
 ],
 "metadata": {
  "kernelspec": {
   "display_name": "Python 3",
   "language": "python",
   "name": "python3"
  },
  "language_info": {
   "codemirror_mode": {
    "name": "ipython",
    "version": 3
   },
   "file_extension": ".py",
   "mimetype": "text/x-python",
   "name": "python",
   "nbconvert_exporter": "python",
   "pygments_lexer": "ipython3",
   "version": "3.7.3"
  }
 },
 "nbformat": 4,
 "nbformat_minor": 2
}

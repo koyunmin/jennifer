{
 "cells": [
  {
   "cell_type": "code",
   "execution_count": 12,
   "metadata": {},
   "outputs": [
    {
     "name": "stdout",
     "output_type": "stream",
     "text": [
      "8:10\n",
      "175.000\n"
     ]
    }
   ],
   "source": [
    "n=list(str(input()).zfill(5))\n",
    "str1=''.join(n[0]+n[1])\n",
    "str2=''.join(n[3]+n[4])\n",
    "H=int(str1)\n",
    "M=int(str2)\n",
    "if (H!=0) or (M!=0):\n",
    "    x=abs(6*M-(30*H+M/2))\n",
    "    if 0<=x<=180:\n",
    "        print(\"%.3f\"%x)\n",
    "    else:\n",
    "        y=abs(360-x)\n",
    "        print(\"%.3f\"%y)\n",
    "        \n",
    "else:\n",
    "    print()\n"
   ]
  },
  {
   "cell_type": "code",
   "execution_count": null,
   "metadata": {},
   "outputs": [],
   "source": []
  }
 ],
 "metadata": {
  "kernelspec": {
   "display_name": "Python 3",
   "language": "python",
   "name": "python3"
  },
  "language_info": {
   "codemirror_mode": {
    "name": "ipython",
    "version": 3
   },
   "file_extension": ".py",
   "mimetype": "text/x-python",
   "name": "python",
   "nbconvert_exporter": "python",
   "pygments_lexer": "ipython3",
   "version": "3.7.3"
  }
 },
 "nbformat": 4,
 "nbformat_minor": 2
}

{
 "cells": [
  {
   "cell_type": "code",
   "execution_count": 10,
   "metadata": {},
   "outputs": [
    {
     "name": "stdout",
     "output_type": "stream",
     "text": [
      "3\n",
      "5\n",
      "1 1 1\n",
      "2 2 2\n",
      "3 3 3\n",
      "2 3 4\n",
      "8 9 2\n",
      "38.0\n",
      "3\n",
      "9 1 8\n",
      "6 12 1\n",
      "8 1 1\n",
      "86.0\n",
      "3\n",
      "10 30 40\n",
      "9 8 5\n",
      "100 1000 70\n",
      "7445.0\n"
     ]
    }
   ],
   "source": [
    "n=int(input())\n",
    "\n",
    "for i in range(n):\n",
    "    m=int(input())\n",
    "    L1=[]\n",
    "    L.append(sum(L1))\n",
    "    for j in range(m):\n",
    "        line=list((input().split()))\n",
    "        x=int(line[0])\n",
    "        y=int(line[1])\n",
    "        z=int(line[2])\n",
    "        k=x/y*z*y\n",
    "        L1.append(k)\n",
    "\n",
    "    print(sum(L1))\n",
    "        "
   ]
  },
  {
   "cell_type": "code",
   "execution_count": null,
   "metadata": {},
   "outputs": [],
   "source": []
  }
 ],
 "metadata": {
  "kernelspec": {
   "display_name": "Python 3",
   "language": "python",
   "name": "python3"
  },
  "language_info": {
   "codemirror_mode": {
    "name": "ipython",
    "version": 3
   },
   "file_extension": ".py",
   "mimetype": "text/x-python",
   "name": "python",
   "nbconvert_exporter": "python",
   "pygments_lexer": "ipython3",
   "version": "3.7.3"
  }
 },
 "nbformat": 4,
 "nbformat_minor": 2
}
